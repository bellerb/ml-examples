{
 "cells": [
  {
   "cell_type": "code",
   "execution_count": 2,
   "metadata": {},
   "outputs": [
    {
     "name": "stdout",
     "output_type": "stream",
     "text": [
      "torch.Size([3, 8, 4])\n",
      "------------\n",
      "torch.Size([3, 8, 4])\n"
     ]
    }
   ],
   "source": [
    "from math import log\n",
    "from einops import rearrange\n",
    "\n",
    "import torch\n",
    "import torch.nn as nn\n",
    "\n",
    "class Attention(nn.Module):\n",
    "    def __init__(self,input_size,layer_size=64,latent_size=None,heads=1,dropout=0.5):\n",
    "        super(Attention, self).__init__()\n",
    "        self.heads = heads\n",
    "        self.Q = nn.Linear(input_size,layer_size,bias=False) if latent_size is None else nn.Linear(input_size,latent_size,bias=False)\n",
    "        self.K = nn.Linear(input_size,layer_size,bias=False)\n",
    "        self.V = nn.Linear(input_size,layer_size,bias=False)\n",
    "        self.softmax = nn.Softmax(dim=-1)\n",
    "        inner_size = layer_size if latent_size is None else latent_size\n",
    "        self.output = nn.Sequential(\n",
    "            nn.Linear(inner_size,input_size,bias=False),\n",
    "            nn.Dropout(dropout)\n",
    "        )\n",
    "        \n",
    "    def forward(self,x,context=None,mask=None):\n",
    "        #h:heads, b:batches, y:y-axis x:x-axis\n",
    "        q = rearrange(self.Q(x), 'b y (h x) -> (b h) y x', h=self.heads) #Query\n",
    "        if context is None:\n",
    "            k,v = map(lambda x:rearrange(x, 'b y (h x) -> (b h) y x', h=self.heads),(self.K(x),self.V(x)))\n",
    "        else:\n",
    "            k,v = map(lambda x:rearrange(x, 'b y (h x) -> (b h) y x', h=self.heads),(self.K(context),self.V(context)))\n",
    "\n",
    "        #b:batches, y:y-axis, q:q x-axis, k: k x-axis\n",
    "        z = torch.einsum('b y q, b y k -> b k q', q, k) / (i.size(-1)**(0.5)) #Scaled dot product [QK.T/sqrt(dk)]\n",
    "\n",
    "        if mask is not None:\n",
    "            mask_expanded = mask.unsqueeze(1).expand_as(z)\n",
    "            z = z.masked_fill(mask_expanded, -1e18)\n",
    "            \n",
    "        z = self.softmax(z)\n",
    "        #b:batches, c:common dim, z:z x-axis, v:v x-axis\n",
    "        z = torch.einsum('b y z, b v y -> b v z', z, v) #Dot product [ZV]\n",
    "        #h:heads, b:batches, y:y-axis, x:x-axis\n",
    "        z = rearrange(z, '(b h) y x -> b y (h x)', h=self.heads) #Concat data\n",
    "        z = self.output(z)\n",
    "        return z\n",
    "\n",
    "i = torch.rand(3,8,4)\n",
    "#print(i)\n",
    "print(i.size())\n",
    "print('------------')\n",
    "\n",
    "attention = Attention(\n",
    "    i.size(-1),\n",
    "    layer_size=30,\n",
    "    latent_size=10,\n",
    "    heads=2\n",
    ")\n",
    "\n",
    "a_out = attention(i)\n",
    "print(a_out.size())"
   ]
  },
  {
   "cell_type": "code",
   "execution_count": 3,
   "metadata": {},
   "outputs": [
    {
     "name": "stdout",
     "output_type": "stream",
     "text": [
      "torch.Size([3, 8, 4])\n",
      "---------\n",
      "torch.Size([3, 8, 4])\n"
     ]
    }
   ],
   "source": [
    "class Transformer(nn.Module):\n",
    "    def __init__(self,input_size,layer_size=64,heads=1,dropout=0.5):\n",
    "        super(Transformer, self).__init__()\n",
    "        self.self_attention = Attention(input_size,layer_size=layer_size,heads=heads,dropout=dropout)\n",
    "        self.linear = nn.Sequential(\n",
    "            nn.Linear(input_size,input_size,bias=False),\n",
    "            nn.Dropout(dropout)\n",
    "        )\n",
    "            \n",
    "    def forward(self,x):\n",
    "        z = self.self_attention(x) \n",
    "        z = nn.functional.normalize(z)\n",
    "        z = self.linear(z)\n",
    "        z = nn.functional.normalize(z)\n",
    "        return z\n",
    "    \n",
    "transformer = Transformer(\n",
    "    i.size(-1),\n",
    "    layer_size = 20,\n",
    "    heads = 5,\n",
    "    dropout = 0.5\n",
    ")\n",
    "\n",
    "print(i.size())\n",
    "print('---------')\n",
    "t_out = transformer(i)\n",
    "print(t_out.size())"
   ]
  },
  {
   "cell_type": "code",
   "execution_count": 4,
   "metadata": {},
   "outputs": [
    {
     "name": "stdout",
     "output_type": "stream",
     "text": [
      "torch.Size([3, 8, 4])\n",
      "---------\n",
      "torch.Size([3, 8, 4])\n"
     ]
    }
   ],
   "source": [
    "class Perceiver(nn.Module):\n",
    "    def __init__(self,input_size,recursions=1,transformer_blocks=1,layer_size=64,latent_size=None,cross_heads=1,self_heads=1,cross_dropout=0.5,self_dropout=0.5):\n",
    "        super(Perceiver, self).__init__()\n",
    "        self.recursions = recursions\n",
    "        self.transformer_blocks = transformer_blocks\n",
    "        self.cross_attention = Attention(\n",
    "            input_size,layer_size=layer_size,\n",
    "            latent_size=latent_size,\n",
    "            heads=cross_heads,\n",
    "            dropout=cross_dropout\n",
    "        )\n",
    "        self.latent_transformer = Transformer(\n",
    "            input_size,\n",
    "            latent_size,\n",
    "            self_heads,\n",
    "            self_dropout\n",
    "        )\n",
    "    \n",
    "    def forward(self,x):\n",
    "        z = self.cross_attention(x)\n",
    "        for _ in range(self.recursions):\n",
    "            for _ in range(self.transformer_blocks):\n",
    "                z = self.latent_transformer(z)\n",
    "            z = self.cross_attention(z,context=x)\n",
    "        z = self.latent_transformer(z)\n",
    "        return z\n",
    "\n",
    "perceiver = Perceiver(\n",
    "    i.size(-1),\n",
    "    recursions = 5,\n",
    "    transformer_blocks = 3,\n",
    "    layer_size = 20,\n",
    "    latent_size = 10,\n",
    "    cross_heads = 5,\n",
    "    self_heads = 2\n",
    ")\n",
    "\n",
    "#print(i)\n",
    "print(i.size())\n",
    "print('---------')\n",
    "p_out = perceiver(i)\n",
    "#print(out)\n",
    "print(p_out.size())"
   ]
  },
  {
   "cell_type": "code",
   "execution_count": null,
   "metadata": {},
   "outputs": [],
   "source": [
    "class PositionalEncoding(nn.Module):\n",
    "    def __init__(self, d_model, dropout=0.1, max_len=5000):\n",
    "        super(PositionalEncoding, self).__init__()\n",
    "        self.dropout = nn.Dropout(p=dropout)\n",
    "\n",
    "        pe = torch.zeros(max_len, d_model)\n",
    "        position = torch.arange(0, max_len, dtype=torch.float).unsqueeze(1)\n",
    "        div_term = torch.exp(torch.arange(0, d_model, 2).float() * (-log(10000.0) / d_model))\n",
    "        pe[:, 0::2] = torch.sin(position * div_term)\n",
    "        pe[:, 1::2] = torch.cos(position * div_term)\n",
    "        pe = pe.unsqueeze(0).transpose(0, 1)\n",
    "        self.register_buffer('pe', pe)\n",
    "\n",
    "    def forward(self, x):\n",
    "        x = x + self.pe[:x.size(0),:]\n",
    "        return self.dropout(x)"
   ]
  },
  {
   "cell_type": "code",
   "execution_count": null,
   "metadata": {},
   "outputs": [],
   "source": []
  }
 ],
 "metadata": {
  "kernelspec": {
   "display_name": "Python 3",
   "language": "python",
   "name": "python3"
  },
  "language_info": {
   "codemirror_mode": {
    "name": "ipython",
    "version": 3
   },
   "file_extension": ".py",
   "mimetype": "text/x-python",
   "name": "python",
   "nbconvert_exporter": "python",
   "pygments_lexer": "ipython3",
   "version": "3.7.9"
  }
 },
 "nbformat": 4,
 "nbformat_minor": 4
}
